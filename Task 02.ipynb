{
 "cells": [
  {
   "cell_type": "code",
   "execution_count": 1,
   "metadata": {},
   "outputs": [],
   "source": [
    "import random\n",
    "import numpy\n",
    "import matplotlib.pyplot as plt\n",
    "from tabulate import tabulate\n",
    "import scipy.optimize as optimize\n",
    "from decimal import Decimal"
   ]
  },
  {
   "cell_type": "markdown",
   "metadata": {},
   "source": [
    "## 1. One dimensional methods"
   ]
  },
  {
   "cell_type": "markdown",
   "metadata": {},
   "source": [
    "### Defining the methods"
   ]
  },
  {
   "cell_type": "markdown",
   "metadata": {},
   "source": [
    "#### Exhaustive Search"
   ]
  },
  {
   "cell_type": "code",
   "execution_count": 159,
   "metadata": {},
   "outputs": [],
   "source": [
    "def min_exhaustive_search(fun,a,b,error):\n",
    "    n=round((b-a)/error)\n",
    "    min_fun=100000\n",
    "    min_x=0\n",
    "    for k in range (n+1):\n",
    "        x= a + k * (b-a)/n\n",
    "        fun_x=fun(x)\n",
    "        if (fun_x < min_fun): #searching for the minimum value of function\n",
    "            min_x=x\n",
    "            min_fun=fun_x\n",
    "    return min_x, abs(min_x-error),min_x +error, min_fun ,n\n",
    "    '''returning :\n",
    "    -value of x that yeilds min value of function \n",
    "    -minimum possible value of x that yeilds min value of function according to the accepted error \n",
    "    -maximum possible value of x that yeilds min value of function according to the accepted error \n",
    "    - the minimum found value of th fuction\n",
    "    - num of iteration = num of function calculations'''\n",
    "# num of f calculations = number of iteratioins = n"
   ]
  },
  {
   "cell_type": "markdown",
   "metadata": {},
   "source": [
    "#### Dichotomy"
   ]
  },
  {
   "cell_type": "code",
   "execution_count": 57,
   "metadata": {},
   "outputs": [],
   "source": [
    "# delta most be declared before calling the function. delta = random.uniform(0, error)\n",
    "def min_dichotomy (fun,a,b,error,delta,num_iter,num_fun):\n",
    "    num_iter+=1     #calculate the number of iterations\n",
    "    if (abs(a-b)<error):\n",
    "        return a,b,num_fun,num_iter\n",
    "    else:\n",
    "        x1= ((a+b-delta)/2)\n",
    "        x2=((a+b+delta)/2)\n",
    "        num_fun+=1           #calculate the number of function calculations\n",
    "        if(fun(x1)<fun(x2)):\n",
    "            b=x2\n",
    "        else:\n",
    "            a=x1\n",
    "        return min_dichotomy (fun,a,b,error,delta,num_fun,num_iter)\n",
    "\n",
    "# to call this function min_dichotomy(fun,a,b,error,delta,0,0)"
   ]
  },
  {
   "cell_type": "markdown",
   "metadata": {},
   "source": [
    "#### Golden section search"
   ]
  },
  {
   "cell_type": "code",
   "execution_count": 65,
   "metadata": {},
   "outputs": [],
   "source": [
    "def min_golden (fun,a,b,error,x1,x2,fun_value,label,num_iter,num_fun):\n",
    "    num_iter+=1                         #saving the number of total iteration of the function min_golden\n",
    "    if (abs(b-a)<error):\n",
    "        result=[a,b,num_fun,num_iter]\n",
    "        return result\n",
    "    else:\n",
    "        if (label=='both'):   # this case will be true when first call the function, then in next stages will be either of the two following (elif)\n",
    "            x1= (a+((3-math.sqrt(5))/2)*(b-a))\n",
    "            x2=(b+((math.sqrt(5)-3)/2)*(b-a))\n",
    "            fun_x1=fun(x1)\n",
    "            fun_x2=fun(x2)\n",
    "            num_fun+=2                  #saving the number of calculating of the function\n",
    "        elif (label=='right'):  # this case will be true when we are moving our calculations to the right\n",
    "            x2=(b+((math.sqrt(5)-3)/2)*(b-a))\n",
    "            fun_x1=fun_value\n",
    "            fun_x2=fun(x2)\n",
    "            num_fun+=1                  #saving the number of calculating of the function\n",
    "        elif (label=='left'):    # this case will be true when we are moving our calculations to the left\n",
    "            x1= (a+((3-math.sqrt(5))/2)*(b-a))\n",
    "            fun_x1=fun(x1)\n",
    "            fun_x2=fun_value\n",
    "            num_fun+=1                  #saving the number of calculating of the function\n",
    "        #After calculating x1,x2,fun_x1,fun_x2 in previous lines, \n",
    "        # next according to the condition we will decide to recall the function to the right or left range.\n",
    "        if(fun_x1<fun_x2):\n",
    "            b=x1\n",
    "            x2=x1\n",
    "            return min_golden (fun,a,b,error,x1,x2,fun_x1,'left',num_iter,num_fun)\n",
    "        else:\n",
    "            a=x1\n",
    "            x1=x2\n",
    "            return min_golden (fun,a,b,error,x1,x2,fun_x2,'right',num_iter,num_fun)\n",
    "# to call this function min_golden(fun,a,b,error,0,0,0,'both',0,0)\n"
   ]
  },
  {
   "cell_type": "markdown",
   "metadata": {},
   "source": [
    "### Defining the functions"
   ]
  },
  {
   "cell_type": "code",
   "execution_count": 59,
   "metadata": {},
   "outputs": [],
   "source": [
    "def cube_power(x):\n",
    "    return pow(x,3)"
   ]
  },
  {
   "cell_type": "code",
   "execution_count": 17,
   "metadata": {},
   "outputs": [],
   "source": [
    "def abs_function(x):\n",
    "    return (abs(x-0.2)) "
   ]
  },
  {
   "cell_type": "code",
   "execution_count": 18,
   "metadata": {},
   "outputs": [],
   "source": [
    "def sin_function(x):\n",
    "    return(x*math.sin(1/x))"
   ]
  },
  {
   "cell_type": "markdown",
   "metadata": {},
   "source": [
    "### Applying the methods for the functions"
   ]
  },
  {
   "cell_type": "code",
   "execution_count": 61,
   "metadata": {},
   "outputs": [
    {
     "name": "stdout",
     "output_type": "stream",
     "text": [
      "╒════════════════╤═══════╤═════════════╤════════════════════════╤════════════════════╕\n",
      "│                │   a   │      b      │  function claculation  │  num of iteration  │\n",
      "╞════════════════╪═══════╪═════════════╪════════════════════════╪════════════════════╡\n",
      "│ Exhaustive     │ 0.001 │    0.001    │          1000          │        1000        │\n",
      "├────────────────┼───────┼─────────────┼────────────────────────┼────────────────────┤\n",
      "│ Dichotomy      │   0   │ 0.000866204 │           13           │         12         │\n",
      "├────────────────┼───────┼─────────────┼────────────────────────┼────────────────────┤\n",
      "│ Golden section │   0   │ 0.000453104 │           9            │         9          │\n",
      "╘════════════════╧═══════╧═════════════╧════════════════════════╧════════════════════╛\n"
     ]
    }
   ],
   "source": [
    "#First function\n",
    "min_x, a,b, min_fun ,n =min_exhaustive_search(cube_power,0,1,0.001) # applying first method\n",
    "parameters=[]\n",
    "parameters.append([a,b, n ,n])                                   # saving the result from the first method\n",
    "delta = random.uniform(0, 0.001)                                    #declaring delta to be used in second method\n",
    "parameters.append(min_dichotomy(cube_power,0,1,0.001,delta,0,0))    #applying 2nd method and saving the result\n",
    "parameters.append(min_golden(cube_power,0,1,0.001,0,0,0,'both',0,0)) #applying the third method and saving the results\n",
    "# Printing a table with results\n",
    "rowIDs=['Exhaustive','Dichotomy','Golden section']\n",
    "print(tabulate(parameters, headers=['a','b','function claculation','num of iteration'],  tablefmt='fancy_grid',numalign ='center',showindex=rowIDs))"
   ]
  },
  {
   "cell_type": "code",
   "execution_count": null,
   "metadata": {},
   "outputs": [],
   "source": [
    "parameters_linear=[]               # defining array to save the results"
   ]
  },
  {
   "cell_type": "code",
   "execution_count": 62,
   "metadata": {},
   "outputs": [
    {
     "name": "stdout",
     "output_type": "stream",
     "text": [
      "╒════════════════╤══════════╤══════════╤════════════════════════╤════════════════════╕\n",
      "│                │    a     │    b     │  function claculation  │  num of iteration  │\n",
      "╞════════════════╪══════════╪══════════╪════════════════════════╪════════════════════╡\n",
      "│ Exhaustive     │  0.199   │  0.201   │          1000          │        1000        │\n",
      "├────────────────┼──────────┼──────────┼────────────────────────┼────────────────────┤\n",
      "│ Dichotomy      │ 0.199651 │ 0.200419 │           12           │         11         │\n",
      "├────────────────┼──────────┼──────────┼────────────────────────┼────────────────────┤\n",
      "│ Golden section │ 0.145165 │ 0.145898 │           24           │         24         │\n",
      "╘════════════════╧══════════╧══════════╧════════════════════════╧════════════════════╛\n"
     ]
    }
   ],
   "source": [
    "#Second function\n",
    "min_x, a,b, min_fun ,n =min_exhaustive_search(abs_function,0,1,0.001) # applying first method\n",
    "parameters_2=[]\n",
    "parameters_2.append([a,b, n ,n])                                   # saving the result from the first method\n",
    "delta = random.uniform(0, 0.001)                                    #declaring delta to be used in second method\n",
    "parameters_2.append(min_dichotomy(abs_function,0,1,0.001,delta,0,0))    #applying 2nd method and saving the result\n",
    "parameters_2.append(min_golden(abs_function,0,1,0.001,0,0,0,'both',0,0)) #applying the third method and saving the results\n",
    "# Printing a table with results\n",
    "rowIDs=['Exhaustive','Dichotomy','Golden section']\n",
    "print(tabulate(parameters_2, headers=['a','b','function claculation','num of iteration'],  tablefmt='fancy_grid',numalign ='center',showindex=rowIDs))"
   ]
  },
  {
   "cell_type": "code",
   "execution_count": 64,
   "metadata": {},
   "outputs": [
    {
     "name": "stdout",
     "output_type": "stream",
     "text": [
      "╒════════════════╤═══════════╤═══════════╤════════════════════════╤════════════════════╕\n",
      "│                │     a     │     b     │  function claculation  │  num of iteration  │\n",
      "╞════════════════╪═══════════╪═══════════╪════════════════════════╪════════════════════╡\n",
      "│ Exhaustive     │   0.222   │   0.224   │          990           │        990         │\n",
      "├────────────────┼───────────┼───────────┼────────────────────────┼────────────────────┤\n",
      "│ Dichotomy      │ 0.222134  │  0.22298  │           12           │         11         │\n",
      "├────────────────┼───────────┼───────────┼────────────────────────┼────────────────────┤\n",
      "│ Golden section │ 0.0173235 │ 0.0180493 │           15           │         15         │\n",
      "╘════════════════╧═══════════╧═══════════╧════════════════════════╧════════════════════╛\n"
     ]
    }
   ],
   "source": [
    "#third function\n",
    "min_x, a,b, min_fun ,n =min_exhaustive_search(sin_function,0.01,1,0.001) # applying first method\n",
    "parameters_3=[]\n",
    "parameters_3.append([a,b, n ,n])                                   # saving the result from the first method\n",
    "delta = random.uniform(0, 0.001)                                    #declaring delta to be used in second method\n",
    "parameters_3.append(min_dichotomy(sin_function,0.01,1,0.001,delta,0,0))    #applying 2nd method and saving the result\n",
    "parameters_3.append(min_golden(sin_function,0.01,1,0.001,0,0,0,'both',0,0)) #applying the third method and saving the results\n",
    "# Printing a table with results\n",
    "rowIDs=['Exhaustive','Dichotomy','Golden section']\n",
    "print(tabulate(parameters_3, headers=['a','b','function claculation','num of iteration'],  tablefmt='fancy_grid',numalign ='center',showindex=rowIDs))"
   ]
  },
  {
   "cell_type": "markdown",
   "metadata": {},
   "source": [
    "## 2. Multidimensional direct methods"
   ]
  },
  {
   "cell_type": "markdown",
   "metadata": {},
   "source": [
    "### Initials"
   ]
  },
  {
   "cell_type": "code",
   "execution_count": null,
   "metadata": {},
   "outputs": [],
   "source": [
    "alpha = random.uniform(0, 1)    #random value\n",
    "beta = random.uniform(0, 1)     #random value\n",
    "size_of_array = 100\n",
    "min_ab=0\n",
    "max_ab=1\n",
    "error =0.001\n",
    "delta_normal=numpy.random.standard_normal(size=size_of_array)     #random samples samples from a standard Normal distribution (mean=0, stdev=1).   \n",
    "x=[]   #Intializing the x vector\n",
    "y=[]   #Intializing the y vector\n",
    "y_clear =[] #Intializing the clear y vector\n",
    "for k in range(size_of_array):    #According to the proposed formulas, calculating x and y with noise (y), ckear y without noise\n",
    "    x.append(k/100)\n",
    "    y.append(alpha* x[k]+ beta+ delta_normal[k])\n",
    "    y_clear.append(alpha* x[k]+ beta)\n",
    "x=numpy.array(x)        #transforming to numpy.array for future uses.\n",
    "y=numpy.array(y)\n",
    "y_clear=numpy.array(y_clear)"
   ]
  },
  {
   "cell_type": "markdown",
   "metadata": {},
   "source": [
    "### Defining Mean Suquare Error for each approximation"
   ]
  },
  {
   "cell_type": "code",
   "execution_count": 7,
   "metadata": {},
   "outputs": [],
   "source": [
    "# Mean Suare error with linear approximation\n",
    "def MLS_linear(params, x,y):\n",
    "    a, b = params\n",
    "    return sum((y - (a*x+b))**2)"
   ]
  },
  {
   "cell_type": "code",
   "execution_count": 8,
   "metadata": {},
   "outputs": [],
   "source": [
    "# Mean Suare error with rational approximation\n",
    "def MLS_rational(params, x,y):\n",
    "    a, b = params\n",
    "    return sum((y - (a/ (1+b*x)))**2)"
   ]
  },
  {
   "cell_type": "markdown",
   "metadata": {},
   "source": [
    "### Applying the three methods"
   ]
  },
  {
   "cell_type": "markdown",
   "metadata": {},
   "source": [
    "#### Linear"
   ]
  },
  {
   "cell_type": "code",
   "execution_count": 95,
   "metadata": {},
   "outputs": [],
   "source": [
    "parameters_linear=[]    # array to save the results"
   ]
  },
  {
   "cell_type": "code",
   "execution_count": null,
   "metadata": {},
   "outputs": [],
   "source": [
    "# optimization through the three methods\n",
    "res_linear_exhaustive = optimize.brute(MLS_linear, [[0, 1], [0, 1]], args=(x,y), Ns=int(1/error) + 1,full_output=True)\n",
    "res_linear_gaus = optimize.minimize(MLS_linear, [0, 0], args=(x,y), tol=error, method='Powell')\n",
    "res_linear_nm = optimize.minimize(MLS_linear, [0, 0], args=(x,y), tol=error, method='Nelder-Mead')"
   ]
  },
  {
   "cell_type": "code",
   "execution_count": 96,
   "metadata": {},
   "outputs": [],
   "source": [
    "#saving the results of the optimixation for each method in the defined array\n",
    "parameters_linear.append([res_linear_exhaustive[0][0],res_linear_exhaustive[0][1],res_linear_exhaustive[1],0,0])\n",
    "parameters_linear.append([res_linear_gaus.x[0],res_linear_gaus.x[1],res_linear_gaus.fun,res_linear_gaus.nfev,res_linear_gaus.nit])\n",
    "parameters_linear.append([res_linear_nm.x[0],res_linear_nm.x[1],res_linear_nm.fun,res_linear_nm.nfev,res_linear_nm.nit])"
   ]
  },
  {
   "cell_type": "code",
   "execution_count": 97,
   "metadata": {},
   "outputs": [],
   "source": [
    "#calculating a,b precision for each method\n",
    "parameters_linear[0].append(abs(alpha-parameters_linear[0][0]))\n",
    "parameters_linear[0].append(abs(beta-parameters_linear[0][1]))\n",
    "parameters_linear[1].append(abs(alpha-parameters_linear[1][0]))\n",
    "parameters_linear[1].append(abs(beta-parameters_linear[1][1]))\n",
    "parameters_linear[2].append(abs(alpha-parameters_linear[2][0]))\n",
    "parameters_linear[2].append(abs(beta-parameters_linear[2][1]))"
   ]
  },
  {
   "cell_type": "code",
   "execution_count": 98,
   "metadata": {},
   "outputs": [
    {
     "name": "stdout",
     "output_type": "stream",
     "text": [
      "                a        b       function value    function claculation    num of iteration    precesion |a-alpha|    precesion |b-beta|\n",
      "-----------  -------  --------  ----------------  ----------------------  ------------------  ---------------------  --------------------\n",
      "Exhaustive   1.16627  0.641844      75.7354                 0                     0                  0.1935               0.00323742\n",
      "Gauss        1.1663   0.641831      75.7354                 96                    3                 0.193532              0.00322477\n",
      "Nelder-Mead  1.1663   0.642008      75.7354                116                    62                0.193535              0.00340114\n"
     ]
    }
   ],
   "source": [
    "# Printing a table with results\n",
    "rowIDs=['Exhaustive','Gauss ','Nelder-Mead']\n",
    "print(tabulate(parameters_linear, headers=['a','b','function value','function claculation','num of iteration','precesion |a-alpha|','precesion |b-beta|'],numalign ='center',showindex=rowIDs))"
   ]
  },
  {
   "cell_type": "code",
   "execution_count": 112,
   "metadata": {},
   "outputs": [
    {
     "data": {
      "image/png": "[encoded data removed]",
      "text/plain": [
       "<Figure size 864x576 with 1 Axes>"
      ]
     },
     "metadata": {
      "needs_background": "light"
     },
     "output_type": "display_data"
    }
   ],
   "source": [
    "#ploting original y data (with no nise), y data with noise, and each of the three optimization methods\n",
    "plt.figure(figsize=(12, 8))\n",
    "plt.plot(x, y_clear)\n",
    "plt.plot(x, numpy.array(res_linear_exhaustive[0][0]*x+res_linear_exhaustive[0][1]))\n",
    "plt.plot(x, numpy.array(res_linear_gaus.x[0]*x+res_linear_gaus.x[1]))\n",
    "plt.plot(x, numpy.array(res_linear_nm.x[0]*x+res_linear_nm.x[1]))\n",
    "plt.scatter(x, y)\n",
    "plt.legend([\"Original Data\",\"Exhaustive\", \"Gauss\",\"Nelder-Mead\",\"Noisy data\"])\n",
    "plt.title(\"Linear Approximation\")\n",
    "plt.xlabel(\"x\")\n",
    "plt.ylabel(\"y\")\n",
    "plt.show()"
   ]
  },
  {
   "cell_type": "markdown",
   "metadata": {},
   "source": [
    "#### Rational"
   ]
  },
  {
   "cell_type": "code",
   "execution_count": 100,
   "metadata": {},
   "outputs": [],
   "source": [
    "parameters_rational=[]    # array to save the results"
   ]
  },
  {
   "cell_type": "code",
   "execution_count": 101,
   "metadata": {},
   "outputs": [],
   "source": [
    "# optimization through the three methods\n",
    "res_rational_exhaustive = optimize.brute(MLS_rational, [[0, 1], [0, 1]], args=(x,y), Ns=int(1/error) + 1,full_output=True)\n",
    "res_rational_gaus = optimize.minimize(MLS_rational, [0, 0], args=(x,y), tol=error, method='Powell')\n",
    "res_rational_nm = optimize.minimize(MLS_rational, [0, 0], args=(x,y), tol=error, method='Nelder-Mead')"
   ]
  },
  {
   "cell_type": "code",
   "execution_count": 102,
   "metadata": {},
   "outputs": [],
   "source": [
    "#saving the results of the optimixation for each method in the defined array\n",
    "parameters_rational.append([res_rational_exhaustive[0][0],res_rational_exhaustive[0][1],res_rational_exhaustive[1],0,0])\n",
    "parameters_rational.append([res_rational_gaus.x[0],res_rational_gaus.x[1],res_rational_gaus.fun,res_rational_gaus.nfev,res_rational_gaus.nit])\n",
    "parameters_rational.append([res_rational_nm.x[0],res_rational_nm.x[1],res_rational_nm.fun,res_rational_nm.nfev,res_rational_nm.nit])"
   ]
  },
  {
   "cell_type": "code",
   "execution_count": 103,
   "metadata": {},
   "outputs": [],
   "source": [
    "#calculating a,b precision for each method\n",
    "parameters_rational[0].append(abs(alpha-parameters_rational[0][0]))\n",
    "parameters_rational[0].append(abs(beta-parameters_rational[0][1]))\n",
    "parameters_rational[1].append(abs(alpha-parameters_rational[1][0]))\n",
    "parameters_rational[1].append(abs(beta-parameters_rational[1][1]))\n",
    "parameters_rational[2].append(abs(alpha-parameters_rational[2][0]))\n",
    "parameters_rational[2].append(abs(beta-parameters_rational[2][1]))"
   ]
  },
  {
   "cell_type": "code",
   "execution_count": 104,
   "metadata": {},
   "outputs": [
    {
     "name": "stdout",
     "output_type": "stream",
     "text": [
      "                a          b       function value    function claculation    num of iteration    precesion |a-alpha|    precesion |b-beta|\n",
      "-----------  --------  ---------  ----------------  ----------------------  ------------------  ---------------------  --------------------\n",
      "Exhaustive   0.809792  -0.593067      76.1946                 0                     0                 0.162977               1.23167\n",
      "Gauss        0.810824  -0.593408      76.1951                100                    4                 0.161945               1.23201\n",
      "Nelder-Mead  0.810055  -0.59289       76.1946                124                    65                0.162714                1.2315\n"
     ]
    }
   ],
   "source": [
    "# Printing a table with results\n",
    "rowIDs=['Exhaustive','Gauss ','Nelder-Mead']\n",
    "print(tabulate(parameters_rational, headers=['a','b','function value','function claculation','num of iteration','precesion |a-alpha|','precesion |b-beta|'],numalign ='center',showindex=rowIDs))"
   ]
  },
  {
   "cell_type": "code",
   "execution_count": 111,
   "metadata": {},
   "outputs": [
    {
     "data": {
      "image/png": "[encoded data removed]",
      "text/plain": [
       "<Figure size 864x576 with 1 Axes>"
      ]
     },
     "metadata": {
      "needs_background": "light"
     },
     "output_type": "display_data"
    }
   ],
   "source": [
    "#ploting original y data (with no nise), y data with noise, and each of the three optimization methods\n",
    "plt.figure(figsize=(12, 8))\n",
    "plt.plot(x, y_clear)\n",
    "plt.plot(x, numpy.array(res_rational_exhaustive[0][0]/(1+x*res_rational_exhaustive[0][1])))\n",
    "plt.plot(x, numpy.array(res_rational_gaus.x[0]/(1+x*res_rational_gaus.x[1])))\n",
    "plt.plot(x, numpy.array(res_rational_nm.x[0]/(1+x*res_rational_nm.x[1])))\n",
    "plt.scatter(x, y)\n",
    "plt.legend([\"Original Data\",\"Exhaustive\", \"Gauss\",\"Nelder-Mead\",\"Noisy data\"])\n",
    "plt.title(\"Rational Approximation\")\n",
    "plt.xlabel(\"x\")\n",
    "plt.ylabel(\"y\")\n",
    "plt.show()"
   ]
  },
  {
   "cell_type": "code",
   "execution_count": null,
   "metadata": {},
   "outputs": [],
   "source": []
  }
 ],
 "metadata": {
  "interpreter": {
   "hash": "57baa5815c940fdaff4d14510622de9616cae602444507ba5d0b6727c008cbd6"
  },
  "kernelspec": {
   "display_name": "Python 3.7.8 64-bit",
   "language": "python",
   "name": "python3"
  },
  "language_info": {
   "codemirror_mode": {
    "name": "ipython",
    "version": 3
   },
   "file_extension": ".py",
   "mimetype": "text/x-python",
   "name": "python",
   "nbconvert_exporter": "python",
   "pygments_lexer": "ipython3",
   "version": "3.7.8"
  },
  "orig_nbformat": 4
 },
 "nbformat": 4,
 "nbformat_minor": 2
}
