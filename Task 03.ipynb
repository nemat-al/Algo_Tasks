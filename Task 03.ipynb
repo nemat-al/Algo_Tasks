{
 "cells": [
  {
   "cell_type": "code",
   "execution_count": 86,
   "metadata": {},
   "outputs": [],
   "source": [
    "import random\n",
    "import numpy\n",
    "import matplotlib.pyplot as plt\n",
    "from tabulate import tabulate\n",
    "import scipy.optimize as optimize"
   ]
  },
  {
   "cell_type": "markdown",
   "metadata": {},
   "source": [
    "### Initializing"
   ]
  },
  {
   "cell_type": "code",
   "execution_count": 87,
   "metadata": {},
   "outputs": [],
   "source": [
    "alpha = random.uniform(0, 1)    #random value\n",
    "beta = random.uniform(0, 1)     #random value\n",
    "size_of_array = 100\n",
    "min_ab=0\n",
    "max_ab=1\n",
    "error =0.001\n",
    "delta_normal=numpy.random.standard_normal(size=size_of_array)     #random samples samples from a standard Normal distribution (mean=0, stdev=1).   \n",
    "x=[]   #Intializing the x vector\n",
    "y=[]   #Intializing the y vector\n",
    "y_clear =[] #Intializing the clear y vector\n",
    "for k in range(size_of_array):    #According to the proposed formulas, calculating x and y with noise (y), ckear y without noise\n",
    "    x.append(k/100)\n",
    "    y.append(alpha* x[k]+ beta+ delta_normal[k])\n",
    "    y_clear.append(alpha* x[k]+ beta)\n",
    "x=numpy.array(x)        #transforming to numpy.array for future uses.\n",
    "y=numpy.array(y)\n",
    "y_clear=numpy.array(y_clear)"
   ]
  },
  {
   "cell_type": "markdown",
   "metadata": {},
   "source": [
    "### Defining Gradient Descent"
   ]
  },
  {
   "cell_type": "code",
   "execution_count": 88,
   "metadata": {},
   "outputs": [],
   "source": [
    "def gradient_descent(x, y, label, error,learningRatio):\n",
    "    a, b = 0, 0\n",
    "    num_iter = 0\n",
    "    fun_cal = 0\n",
    "    while True:\n",
    "        num_iter += 1\n",
    "        prev_a, prev_b = a, b\n",
    "        if (label == \"linear\"):\n",
    "            a = a - learningRatio * (-2) / len(x) * sum(x * (y - a * x - b))\n",
    "            b = b - learningRatio * (-2) / len(x) * sum(y - a * x - b)\n",
    "        elif (label == \"rational\"):\n",
    "            a = a - learningRatio * (-2/len(x)) * sum((-a + b * x * y + y) / (b*x + 1)**2)\n",
    "            b = b - learningRatio * (-2)/len(x) * sum(a * x * (a - y * (b*x + 1)) / (b * x + 1) ** 3)\n",
    "        fun_cal += 1\n",
    "        if (((a - prev_a) ** 2 + (b - prev_b) ** 2) ** 0.5 < error):\n",
    "            break\n",
    "\n",
    "    return a, b, num_iter, fun_cal"
   ]
  },
  {
   "cell_type": "markdown",
   "metadata": {},
   "source": [
    "### Defining Mean Suquare Error for each approximation"
   ]
  },
  {
   "cell_type": "code",
   "execution_count": 89,
   "metadata": {},
   "outputs": [],
   "source": [
    "# Mean Suare error with linear approximation\n",
    "def MLS_linear(params, x,y):\n",
    "    a, b = params\n",
    "    return sum((y - (a*x+b))**2)"
   ]
  },
  {
   "cell_type": "code",
   "execution_count": 90,
   "metadata": {},
   "outputs": [],
   "source": [
    "# Mean Suare error with rational approximation\n",
    "def MLS_rational(params, x,y):\n",
    "    a, b = params\n",
    "    return sum((y - (a/ (1+b*x)))**2)"
   ]
  },
  {
   "cell_type": "markdown",
   "metadata": {},
   "source": [
    "### Defining linear and rational approximation for the lm method"
   ]
  },
  {
   "cell_type": "code",
   "execution_count": 92,
   "metadata": {},
   "outputs": [],
   "source": [
    "# linear approximation\n",
    "def linear(params, x,y):\n",
    "    a, b = params\n",
    "    return (y - (a*x+b))\n",
    "\n",
    "# rational approximation\n",
    "def rational(params, x,y):\n",
    "    a, b = params\n",
    "    return (y - (a/ (1+b*x)))"
   ]
  },
  {
   "cell_type": "markdown",
   "metadata": {},
   "source": [
    "### Applying the four methods"
   ]
  },
  {
   "cell_type": "markdown",
   "metadata": {},
   "source": [
    "#### Linear Approximation"
   ]
  },
  {
   "cell_type": "markdown",
   "metadata": {},
   "source": [
    "##### First and Second order methods"
   ]
  },
  {
   "cell_type": "code",
   "execution_count": 95,
   "metadata": {},
   "outputs": [],
   "source": [
    "parameters_linear=[] # array to save the results"
   ]
  },
  {
   "cell_type": "markdown",
   "metadata": {},
   "source": []
  },
  {
   "cell_type": "code",
   "execution_count": 96,
   "metadata": {},
   "outputs": [],
   "source": [
    "# optimization through the four methods\n",
    "res_linear_grad_des = gradient_descent(x, y, 'linear', error, 1e-1)\n",
    "res_linear_conj_grad = optimize.minimize(MLS_linear, [0, 0], args=(x,y), tol=error, method='CG')\n",
    "res_linear_newton = optimize.minimize(MLS_linear, [0, 0], args=(x,y), tol=error, method='BFGS')\n",
    "res_linear_lm = optimize.least_squares(linear, [0, 0], args=(x,y), xtol=error, method='lm')"
   ]
  },
  {
   "cell_type": "code",
   "execution_count": 97,
   "metadata": {},
   "outputs": [],
   "source": [
    "#saving the results of the optimixation for each method in the defined array\n",
    "parameters_linear.append([res_linear_grad_des[0],res_linear_grad_des[1],0,res_linear_grad_des[3],res_linear_grad_des[2]])\n",
    "parameters_linear.append([res_linear_conj_grad.x[0],res_linear_conj_grad.x[1],res_linear_conj_grad.fun,res_linear_conj_grad.nfev,res_linear_conj_grad.nit])\n",
    "parameters_linear.append([res_linear_newton.x[0],res_linear_newton.x[1],res_linear_newton.fun,res_linear_newton.nfev,res_linear_newton.nit])\n",
    "parameters_linear.append([res_linear_lm.x[0],res_linear_lm.x[1],0,res_linear_lm.nfev,0])"
   ]
  },
  {
   "cell_type": "markdown",
   "metadata": {},
   "source": [
    "##### zero order methods from task 02"
   ]
  },
  {
   "cell_type": "code",
   "execution_count": 98,
   "metadata": {},
   "outputs": [],
   "source": [
    "# from previous task\n",
    "res_linear_exhaustive = optimize.brute(MLS_linear, [[0, 1], [0, 1]], args=(x,y), Ns=int(1/error) + 1,full_output=True)\n",
    "res_linear_gaus = optimize.minimize(MLS_linear, [0, 0], args=(x,y), tol=error, method='Powell')\n",
    "res_linear_nm = optimize.minimize(MLS_linear, [0, 0], args=(x,y), tol=error, method='Nelder-Mead')\n",
    "parameters_linear.append([res_linear_exhaustive[0][0],res_linear_exhaustive[0][1],res_linear_exhaustive[1],0,0])\n",
    "parameters_linear.append([res_linear_gaus.x[0],res_linear_gaus.x[1],res_linear_gaus.fun,res_linear_gaus.nfev,res_linear_gaus.nit])\n",
    "parameters_linear.append([res_linear_nm.x[0],res_linear_nm.x[1],res_linear_nm.fun,res_linear_nm.nfev,res_linear_nm.nit])"
   ]
  },
  {
   "cell_type": "markdown",
   "metadata": {},
   "source": [
    "##### Printing the results"
   ]
  },
  {
   "cell_type": "code",
   "execution_count": 111,
   "metadata": {},
   "outputs": [
    {
     "name": "stdout",
     "output_type": "stream",
     "text": [
      "╒═════════════════════╤══════════╤══════════╤══════════════════╤════════════════════════╤════════════════════╕\n",
      "│                     │    a     │    b     │  function value  │  function claculation  │  num of iteration  │\n",
      "╞═════════════════════╪══════════╪══════════╪══════════════════╪════════════════════════╪════════════════════╡\n",
      "│ Gradient Descent    │ 0.349185 │ 0.284395 │        0         │           87           │         87         │\n",
      "├─────────────────────┼──────────┼──────────┼──────────────────┼────────────────────────┼────────────────────┤\n",
      "│ Non-linear CGD      │ 0.411787 │ 0.251574 │     67.0848      │           15           │         2          │\n",
      "├─────────────────────┼──────────┼──────────┼──────────────────┼────────────────────────┼────────────────────┤\n",
      "│ Newton’s            │ 0.411787 │ 0.251574 │     67.0848      │           15           │         2          │\n",
      "├─────────────────────┼──────────┼──────────┼──────────────────┼────────────────────────┼────────────────────┤\n",
      "│ Levenberg-Marquardt │ 0.411787 │ 0.251574 │        0         │           6            │         0          │\n",
      "├─────────────────────┼──────────┼──────────┼──────────────────┼────────────────────────┼────────────────────┤\n",
      "│ Exhaustive          │ 0.41182  │ 0.251559 │     67.0848      │           0            │         0          │\n",
      "├─────────────────────┼──────────┼──────────┼──────────────────┼────────────────────────┼────────────────────┤\n",
      "│ Gauss               │ 0.411787 │ 0.251574 │     67.0848      │           97           │         3          │\n",
      "├─────────────────────┼──────────┼──────────┼──────────────────┼────────────────────────┼────────────────────┤\n",
      "│ Nelder-Mead         │ 0.411537 │ 0.25177  │     67.0848      │          120           │         61         │\n",
      "╘═════════════════════╧══════════╧══════════╧══════════════════╧════════════════════════╧════════════════════╛\n"
     ]
    }
   ],
   "source": [
    "# Printing a table with results\n",
    "rowIDs=[ 'Gradient Descent','Non-linear CGD','Newton’s ','Levenberg-Marquardt ','Exhaustive','Gauss ','Nelder-Mead']\n",
    "print(tabulate(parameters_linear, headers=['a','b','function value','function claculation','num of iteration'],tablefmt='fancy_grid',numalign ='center',showindex=rowIDs))"
   ]
  },
  {
   "cell_type": "markdown",
   "metadata": {},
   "source": [
    "##### Visualizing zero, first and second order methods."
   ]
  },
  {
   "cell_type": "code",
   "execution_count": 110,
   "metadata": {},
   "outputs": [
    {
     "data": {
      "image/png": "[encoded data removed]",
      "text/plain": [
       "<Figure size 864x576 with 1 Axes>"
      ]
     },
     "metadata": {
      "needs_background": "light"
     },
     "output_type": "display_data"
    }
   ],
   "source": [
    "#ploting original y data (with no nise), y data with noise, and each of the 7 optimization methods\n",
    "plt.figure(figsize=(12, 8))\n",
    "plt.plot(x, y_clear)\n",
    "plt.plot(x, numpy.array(res_linear_grad_des[0]*x+res_linear_grad_des[1]))\n",
    "plt.plot(x, numpy.array(res_linear_conj_grad.x[0]*x+res_linear_conj_grad.x[1]))\n",
    "plt.plot(x, numpy.array(res_linear_newton.x[0]*x+res_linear_newton.x[1]))\n",
    "plt.plot(x, numpy.array(res_linear_newton.x[0]*x+res_linear_newton.x[1]))\n",
    "plt.plot(x, numpy.array(res_linear_exhaustive[0][0]*x+res_linear_exhaustive[0][1]))\n",
    "plt.plot(x, numpy.array(res_linear_gaus.x[0]*x+res_linear_gaus.x[1]))\n",
    "plt.plot(x, numpy.array(res_linear_nm.x[0]*x+res_linear_nm.x[1]))\n",
    "plt.scatter(x, y)\n",
    "plt.legend(['Y','Gradient Descent','Non-rational CGD','Newton’s ','Levenberg-Marquardt ',\"Exhaustive\", \"Gauss\",\"Nelder-Mead\",'y+noise'] ) \n",
    "plt.title(\"Linear Approximations\")\n",
    "plt.xlabel(\"x\")\n",
    "plt.ylabel(\"y\")\n",
    "plt.show()"
   ]
  },
  {
   "cell_type": "markdown",
   "metadata": {},
   "source": [
    "#### Rational approximation"
   ]
  },
  {
   "cell_type": "markdown",
   "metadata": {},
   "source": [
    "##### First and Second order methods"
   ]
  },
  {
   "cell_type": "code",
   "execution_count": 101,
   "metadata": {},
   "outputs": [],
   "source": [
    "parameters_rational=[] # array to save the results"
   ]
  },
  {
   "cell_type": "code",
   "execution_count": 103,
   "metadata": {},
   "outputs": [],
   "source": [
    "# optimization through the four methods\n",
    "res_rational_grad_des = gradient_descent(x, y, 'rational', error, 1e-1)\n",
    "res_rational_conj_grad = optimize.minimize(MLS_rational, [0, 0], args=(x,y), tol=error, method='CG')\n",
    "res_rational_newton = optimize.minimize(MLS_rational, [0, 0], args=(x,y), tol=error, method='BFGS')\n",
    "res_rational_lm = optimize.least_squares(rational, [0, 0], args=(x,y), xtol=error, method='lm')"
   ]
  },
  {
   "cell_type": "code",
   "execution_count": 104,
   "metadata": {},
   "outputs": [],
   "source": [
    "#saving the results of the optimixation for each method in the defined array\n",
    "parameters_rational.append([res_rational_grad_des[0],res_rational_grad_des[1],0,res_rational_grad_des[3],res_rational_grad_des[2]])\n",
    "parameters_rational.append([res_rational_conj_grad.x[0],res_rational_conj_grad.x[1],res_rational_conj_grad.fun,res_rational_conj_grad.nfev,res_rational_conj_grad.nit])\n",
    "parameters_rational.append([res_rational_newton.x[0],res_rational_newton.x[1],res_rational_newton.fun,res_rational_newton.nfev,res_rational_newton.nit])\n",
    "parameters_rational.append([res_rational_lm.x[0],res_rational_lm.x[1],0,res_rational_lm.nfev,0])"
   ]
  },
  {
   "cell_type": "markdown",
   "metadata": {},
   "source": [
    "##### zero order methods from task 02"
   ]
  },
  {
   "cell_type": "code",
   "execution_count": 105,
   "metadata": {},
   "outputs": [],
   "source": [
    "# from previous task\n",
    "# optimization through the three methods\n",
    "res_rational_exhaustive = optimize.brute(MLS_rational, [[0, 1], [0, 1]], args=(x,y), Ns=int(1/error) + 1,full_output=True)\n",
    "res_rational_gaus = optimize.minimize(MLS_rational, [0, 0], args=(x,y), tol=error, method='Powell')\n",
    "res_rational_nm = optimize.minimize(MLS_rational, [0, 0], args=(x,y), tol=error, method='Nelder-Mead')\n",
    "parameters_rational.append([res_rational_exhaustive[0][0],res_rational_exhaustive[0][1],res_rational_exhaustive[1],0,0])\n",
    "parameters_rational.append([res_rational_gaus.x[0],res_rational_gaus.x[1],res_rational_gaus.fun,res_rational_gaus.nfev,res_rational_gaus.nit])\n",
    "parameters_rational.append([res_rational_nm.x[0],res_rational_nm.x[1],res_rational_nm.fun,res_rational_nm.nfev,res_rational_nm.nit])"
   ]
  },
  {
   "cell_type": "markdown",
   "metadata": {},
   "source": [
    "##### Printing the results"
   ]
  },
  {
   "cell_type": "code",
   "execution_count": 112,
   "metadata": {},
   "outputs": [
    {
     "name": "stdout",
     "output_type": "stream",
     "text": [
      "╒═════════════════════╤══════════╤═══════════╤══════════════════╤════════════════════════╤════════════════════╕\n",
      "│                     │    a     │     b     │  function value  │  function claculation  │  num of iteration  │\n",
      "╞═════════════════════╪══════════╪═══════════╪══════════════════╪════════════════════════╪════════════════════╡\n",
      "│ Gradient Descent    │ 0.380384 │ -0.333642 │        0         │          150           │        150         │\n",
      "├─────────────────────┼──────────┼───────────┼──────────────────┼────────────────────────┼────────────────────┤\n",
      "│ Non-rational CGD    │ 0.361041 │ -0.398479 │     67.6821      │          102           │         12         │\n",
      "├─────────────────────┼──────────┼───────────┼──────────────────┼────────────────────────┼────────────────────┤\n",
      "│ Newton’s            │ 0.361021 │ -0.398543 │     67.6821      │           51           │         8          │\n",
      "├─────────────────────┼──────────┼───────────┼──────────────────┼────────────────────────┼────────────────────┤\n",
      "│ Levenberg-Marquardt │ 0.361016 │ -0.398558 │        0         │           45           │         0          │\n",
      "├─────────────────────┼──────────┼───────────┼──────────────────┼────────────────────────┼────────────────────┤\n",
      "│ Exhaustive          │ 0.361013 │ -0.398536 │     67.6821      │           0            │         0          │\n",
      "├─────────────────────┼──────────┼───────────┼──────────────────┼────────────────────────┼────────────────────┤\n",
      "│ Gauss               │ 0.361473 │ -0.39987  │     67.6822      │           73           │         3          │\n",
      "├─────────────────────┼──────────┼───────────┼──────────────────┼────────────────────────┼────────────────────┤\n",
      "│ Nelder-Mead         │ 0.360837 │ -0.398287 │     67.6821      │           82           │         45         │\n",
      "╘═════════════════════╧══════════╧═══════════╧══════════════════╧════════════════════════╧════════════════════╛\n"
     ]
    }
   ],
   "source": [
    "# Printing a table with results\n",
    "rowIDs=['Gradient Descent','Non-rational CGD','Newton’s ','Levenberg-Marquardt ','Exhaustive','Gauss ','Nelder-Mead'] # 'Gradient Descent'\n",
    "print(tabulate(parameters_rational, headers=['a','b','function value','function claculation','num of iteration'],tablefmt='fancy_grid',numalign ='center',showindex=rowIDs))"
   ]
  },
  {
   "cell_type": "markdown",
   "metadata": {},
   "source": [
    "##### Visualizing zero, first and second order methods."
   ]
  },
  {
   "cell_type": "code",
   "execution_count": 109,
   "metadata": {},
   "outputs": [
    {
     "data": {
      "image/png": "[encoded data removed]",
      "text/plain": [
       "<Figure size 864x576 with 1 Axes>"
      ]
     },
     "metadata": {
      "needs_background": "light"
     },
     "output_type": "display_data"
    }
   ],
   "source": [
    "#ploting original y data (with no nise), y data with noise, and each of the 7 optimization methods\n",
    "plt.figure(figsize=(12, 8))\n",
    "plt.plot(x, y_clear)\n",
    "plt.plot(x, numpy.array(res_rational_grad_des[0]/(1+ x* res_rational_grad_des[1])))\n",
    "plt.plot(x, numpy.array(res_rational_conj_grad.x[0]/(1+x*res_rational_conj_grad.x[1])))\n",
    "plt.plot(x, numpy.array(res_rational_newton.x[0]/(1+x*res_rational_newton.x[1])))\n",
    "plt.plot(x, numpy.array(res_rational_lm.x[0]/(1+x*res_rational_lm.x[1])))\n",
    "plt.plot(x, numpy.array(res_rational_exhaustive[0][0]/(1+x*res_rational_exhaustive[0][1])))\n",
    "plt.plot(x, numpy.array(res_rational_gaus.x[0]/(1+x*res_rational_gaus.x[1])))\n",
    "plt.plot(x, numpy.array(res_rational_nm.x[0]/(1+x*res_rational_nm.x[1])))\n",
    "plt.scatter(x, y)\n",
    "plt.legend(['Y','Gradient Descent','Non-rational CGD','Newton’s ','Levenberg-Marquardt ',\"Exhaustive\", \"Gauss\",\"Nelder-Mead\",\"Noisy data\",'y+noise'] ) \n",
    "plt.xlabel(\"x\")\n",
    "plt.ylabel(\"y\")\n",
    "plt.title(\"Rational Approximations\")\n",
    "plt.show()"
   ]
  }
 ],
 "metadata": {
  "interpreter": {
   "hash": "57baa5815c940fdaff4d14510622de9616cae602444507ba5d0b6727c008cbd6"
  },
  "kernelspec": {
   "display_name": "Python 3.7.8 64-bit",
   "language": "python",
   "name": "python3"
  },
  "language_info": {
   "codemirror_mode": {
    "name": "ipython",
    "version": 3
   },
   "file_extension": ".py",
   "mimetype": "text/x-python",
   "name": "python",
   "nbconvert_exporter": "python",
   "pygments_lexer": "ipython3",
   "version": "3.7.8"
  },
  "orig_nbformat": 4
 },
 "nbformat": 4,
 "nbformat_minor": 2
}
